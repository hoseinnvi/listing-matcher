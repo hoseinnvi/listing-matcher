{
 "cells": [
  {
   "cell_type": "code",
   "execution_count": 1,
   "id": "53ac5941-a935-497f-932c-c178f6f6a140",
   "metadata": {},
   "outputs": [],
   "source": [
    "import pandas as pd\n",
    "import usaddress\n",
    "import re\n",
    "import logging\n",
    "\n",
    "# Configure logger once\n",
    "logger = logging.getLogger(\"address_parser\")\n",
    "logger.setLevel(logging.INFO)\n",
    "handler = logging.FileHandler(\"parse_failures.log\")\n",
    "logger.addHandler(handler)\n"
   ]
  },
  {
   "cell_type": "markdown",
   "id": "99b2e0a4-b8ed-4b58-b9a9-30dac580a6ec",
   "metadata": {},
   "source": [
    "First thing before starting to work on model is data understanding and manupilating so let dive into our data"
   ]
  },
  {
   "cell_type": "code",
   "execution_count": 4,
   "id": "2cfef62e-1101-42b5-b79c-793007c45988",
   "metadata": {},
   "outputs": [
    {
     "name": "stdout",
     "output_type": "stream",
     "text": [
      "Shape of properties data (5000, 9)  and the shape or Listing is  (7142, 3)\n"
     ]
    }
   ],
   "source": [
    "#__________________Loading data________________________\n",
    "prop=pd.read_csv(\"properties-out.csv\")\n",
    "listing=pd.read_csv(\"listings-out.csv\")\n",
    "\n",
    "print(\"Shape of properties data\", prop.shape, \" and the shape or Listing is \", listing.shape)"
   ]
  },
  {
   "cell_type": "markdown",
   "id": "13a1ffb4-9bd6-43df-aa70-ea9c078e4934",
   "metadata": {},
   "source": [
    "# Data Analyizing"
   ]
  },
  {
   "cell_type": "code",
   "execution_count": 7,
   "id": "6a3e466f-b3c4-42ce-8496-8f036b19f45d",
   "metadata": {},
   "outputs": [
    {
     "name": "stdout",
     "output_type": "stream",
     "text": [
      "<class 'pandas.core.frame.DataFrame'>\n",
      "RangeIndex: 5000 entries, 0 to 4999\n",
      "Data columns (total 9 columns):\n",
      " #   Column          Non-Null Count  Dtype \n",
      "---  ------          --------------  ----- \n",
      " 0   name            5000 non-null   object\n",
      " 1   street_address  5000 non-null   object\n",
      " 2   unit            2002 non-null   object\n",
      " 3   city            5000 non-null   object\n",
      " 4   state           5000 non-null   object\n",
      " 5   zipcode         5000 non-null   object\n",
      " 6   type            3842 non-null   object\n",
      " 7   property_id     5000 non-null   object\n",
      " 8   team_id         5000 non-null   object\n",
      "dtypes: object(9)\n",
      "memory usage: 351.7+ KB\n"
     ]
    }
   ],
   "source": [
    "prop.info()"
   ]
  },
  {
   "cell_type": "markdown",
   "id": "a633606c-4301-4ea5-bbd8-2197d09bdfa9",
   "metadata": {},
   "source": [
    "Looks like the Unit number has the most missing values followed by Type of property. specially with Unit number that is missing with about 60% o the time it cannot be treated as reliable feature and also similarly the type cannot be reliable for matching\n",
    "now let do some data preprocessing to enhance our data quality"
   ]
  },
  {
   "cell_type": "code",
   "execution_count": 10,
   "id": "4b7b974c-f9bb-4aa8-8c6b-d7d1e21eed65",
   "metadata": {},
   "outputs": [
    {
     "data": {
      "text/html": [
       "<div>\n",
       "<style scoped>\n",
       "    .dataframe tbody tr th:only-of-type {\n",
       "        vertical-align: middle;\n",
       "    }\n",
       "\n",
       "    .dataframe tbody tr th {\n",
       "        vertical-align: top;\n",
       "    }\n",
       "\n",
       "    .dataframe thead th {\n",
       "        text-align: right;\n",
       "    }\n",
       "</style>\n",
       "<table border=\"1\" class=\"dataframe\">\n",
       "  <thead>\n",
       "    <tr style=\"text-align: right;\">\n",
       "      <th></th>\n",
       "      <th>count</th>\n",
       "      <th>unique</th>\n",
       "      <th>top</th>\n",
       "      <th>freq</th>\n",
       "    </tr>\n",
       "  </thead>\n",
       "  <tbody>\n",
       "    <tr>\n",
       "      <th>name</th>\n",
       "      <td>5000</td>\n",
       "      <td>4998</td>\n",
       "      <td>Meadow Wood Apartments</td>\n",
       "      <td>2</td>\n",
       "    </tr>\n",
       "    <tr>\n",
       "      <th>street_address</th>\n",
       "      <td>5000</td>\n",
       "      <td>3583</td>\n",
       "      <td>948 East Devonshire Avenue</td>\n",
       "      <td>62</td>\n",
       "    </tr>\n",
       "    <tr>\n",
       "      <th>unit</th>\n",
       "      <td>2002</td>\n",
       "      <td>950</td>\n",
       "      <td>1</td>\n",
       "      <td>46</td>\n",
       "    </tr>\n",
       "    <tr>\n",
       "      <th>city</th>\n",
       "      <td>5000</td>\n",
       "      <td>304</td>\n",
       "      <td>Los Angeles</td>\n",
       "      <td>557</td>\n",
       "    </tr>\n",
       "    <tr>\n",
       "      <th>state</th>\n",
       "      <td>5000</td>\n",
       "      <td>25</td>\n",
       "      <td>AL</td>\n",
       "      <td>1031</td>\n",
       "    </tr>\n",
       "    <tr>\n",
       "      <th>zipcode</th>\n",
       "      <td>5000</td>\n",
       "      <td>550</td>\n",
       "      <td>84096</td>\n",
       "      <td>145</td>\n",
       "    </tr>\n",
       "    <tr>\n",
       "      <th>type</th>\n",
       "      <td>3842</td>\n",
       "      <td>8</td>\n",
       "      <td>Apartment</td>\n",
       "      <td>1661</td>\n",
       "    </tr>\n",
       "    <tr>\n",
       "      <th>property_id</th>\n",
       "      <td>5000</td>\n",
       "      <td>5000</td>\n",
       "      <td>3d283cd9-5436-40ee-b3c5-8d1983f65bac</td>\n",
       "      <td>1</td>\n",
       "    </tr>\n",
       "    <tr>\n",
       "      <th>team_id</th>\n",
       "      <td>5000</td>\n",
       "      <td>47</td>\n",
       "      <td>5c7aff2f-1a49-4dd3-a1fa-a7622f260133</td>\n",
       "      <td>1267</td>\n",
       "    </tr>\n",
       "  </tbody>\n",
       "</table>\n",
       "</div>"
      ],
      "text/plain": [
       "               count unique                                   top  freq\n",
       "name            5000   4998                Meadow Wood Apartments     2\n",
       "street_address  5000   3583            948 East Devonshire Avenue    62\n",
       "unit            2002    950                                     1    46\n",
       "city            5000    304                           Los Angeles   557\n",
       "state           5000     25                                    AL  1031\n",
       "zipcode         5000    550                                 84096   145\n",
       "type            3842      8                             Apartment  1661\n",
       "property_id     5000   5000  3d283cd9-5436-40ee-b3c5-8d1983f65bac     1\n",
       "team_id         5000     47  5c7aff2f-1a49-4dd3-a1fa-a7622f260133  1267"
      ]
     },
     "metadata": {},
     "output_type": "display_data"
    }
   ],
   "source": [
    "display(prop.describe(include=\"all\").T)"
   ]
  },
  {
   "cell_type": "markdown",
   "id": "200f2286-9102-4d83-88a2-5fb5e91241ba",
   "metadata": {},
   "source": [
    "Showing that property ID can be unique number that helps us to match them. so let check the same thing in listing file"
   ]
  },
  {
   "cell_type": "code",
   "execution_count": 13,
   "id": "ad7ccee6-96fe-4545-871e-50a269a0fbe7",
   "metadata": {},
   "outputs": [
    {
     "name": "stdout",
     "output_type": "stream",
     "text": [
      "<class 'pandas.core.frame.DataFrame'>\n",
      "RangeIndex: 7142 entries, 0 to 7141\n",
      "Data columns (total 3 columns):\n",
      " #   Column       Non-Null Count  Dtype \n",
      "---  ------       --------------  ----- \n",
      " 0   name         7142 non-null   object\n",
      " 1   property_id  4911 non-null   object\n",
      " 2   team_id      7142 non-null   object\n",
      "dtypes: object(3)\n",
      "memory usage: 167.5+ KB\n"
     ]
    }
   ],
   "source": [
    "listing.info()"
   ]
  },
  {
   "cell_type": "markdown",
   "id": "6c8d00b3-dc10-46de-89ab-56546c4b4024",
   "metadata": {},
   "source": [
    "Here with 7141 team id we have less that 5000 property id which seems that we need have additional feature"
   ]
  },
  {
   "cell_type": "code",
   "execution_count": 16,
   "id": "2004d473-1ec7-47b2-9b69-f63d1bd92e0c",
   "metadata": {},
   "outputs": [
    {
     "data": {
      "text/html": [
       "<div>\n",
       "<style scoped>\n",
       "    .dataframe tbody tr th:only-of-type {\n",
       "        vertical-align: middle;\n",
       "    }\n",
       "\n",
       "    .dataframe tbody tr th {\n",
       "        vertical-align: top;\n",
       "    }\n",
       "\n",
       "    .dataframe thead th {\n",
       "        text-align: right;\n",
       "    }\n",
       "</style>\n",
       "<table border=\"1\" class=\"dataframe\">\n",
       "  <thead>\n",
       "    <tr style=\"text-align: right;\">\n",
       "      <th></th>\n",
       "      <th>count</th>\n",
       "      <th>unique</th>\n",
       "      <th>top</th>\n",
       "      <th>freq</th>\n",
       "    </tr>\n",
       "  </thead>\n",
       "  <tbody>\n",
       "    <tr>\n",
       "      <th>name</th>\n",
       "      <td>7142</td>\n",
       "      <td>4230</td>\n",
       "      <td>Rock Hound Way</td>\n",
       "      <td>20</td>\n",
       "    </tr>\n",
       "    <tr>\n",
       "      <th>property_id</th>\n",
       "      <td>4911</td>\n",
       "      <td>1376</td>\n",
       "      <td>83c06a45-751c-4459-ad6c-dece5b0ffdec</td>\n",
       "      <td>160</td>\n",
       "    </tr>\n",
       "    <tr>\n",
       "      <th>team_id</th>\n",
       "      <td>7142</td>\n",
       "      <td>40</td>\n",
       "      <td>9d7b2296-f579-464b-a47d-d62b7532a9e5</td>\n",
       "      <td>2056</td>\n",
       "    </tr>\n",
       "  </tbody>\n",
       "</table>\n",
       "</div>"
      ],
      "text/plain": [
       "            count unique                                   top  freq\n",
       "name         7142   4230                        Rock Hound Way    20\n",
       "property_id  4911   1376  83c06a45-751c-4459-ad6c-dece5b0ffdec   160\n",
       "team_id      7142     40  9d7b2296-f579-464b-a47d-d62b7532a9e5  2056"
      ]
     },
     "metadata": {},
     "output_type": "display_data"
    }
   ],
   "source": [
    "display(listing.describe(include=\"all\").T)"
   ]
  },
  {
   "cell_type": "markdown",
   "id": "955b895f-11e7-4125-8fe9-c25e5ab53835",
   "metadata": {},
   "source": [
    "With seing this this describe i feel like that we may have a duplocation as only 1376 of property id are unique. also in property file we had 47 Unique teams but in listing we have 40 unique teams \\n\n",
    "I am not going to do any processing on listing data as i want to keep it in way that it can be used as our Vector database for having it in our database. so let process our property data."
   ]
  },
  {
   "cell_type": "markdown",
   "id": "e1db33d5-0efa-4408-a034-1e90ba123680",
   "metadata": {},
   "source": [
    "# Processing"
   ]
  },
  {
   "cell_type": "markdown",
   "id": "7ee521b3-0d61-471f-953e-cf491bcb8b7e",
   "metadata": {},
   "source": [
    "## 1.Type normalizing\n",
    "Let see what are the different type we have"
   ]
  },
  {
   "cell_type": "code",
   "execution_count": 21,
   "id": "02b0842f-8cc0-4091-b9b6-e97595ae7abc",
   "metadata": {},
   "outputs": [
    {
     "data": {
      "text/plain": [
       "type\n",
       "Apartment               1661\n",
       "House                   1638\n",
       "NaN                     1158\n",
       "Condo                    274\n",
       "Townhouse                198\n",
       "Apartment Building        65\n",
       "Apartment Floor Plan       3\n",
       "Room                       2\n",
       "Community                  1\n",
       "Name: count, dtype: int64"
      ]
     },
     "execution_count": 21,
     "metadata": {},
     "output_type": "execute_result"
    }
   ],
   "source": [
    "prop[\"type\"].value_counts(dropna=False)"
   ]
  },
  {
   "cell_type": "code",
   "execution_count": 23,
   "id": "1e77373c-2164-46e8-9743-1922f4c67373",
   "metadata": {},
   "outputs": [],
   "source": [
    "mapping = {\n",
    "    \"Apartment Building\": \"Apartment\",\n",
    "    \"Apartment Floor Plan\": \"Apartment\",\n",
    "}\n",
    "prop[\"type\"]=prop[\"type\"].replace(mapping)"
   ]
  },
  {
   "cell_type": "markdown",
   "id": "a695d0cc-5321-4335-9bda-d8a8356f6521",
   "metadata": {},
   "source": [
    "## 2. Adress Normalizing\n",
    "I rather do this for both property and listing"
   ]
  },
  {
   "cell_type": "code",
   "execution_count": 36,
   "id": "3999a76a-5adf-4bf5-bedd-5b9de43c7b26",
   "metadata": {},
   "outputs": [],
   "source": [
    "# --- Enhanced address parsing with normalization and logging ---\n",
    "# Abbreviation map for consistent expansion\n",
    "ABBREVIATIONS = {\n",
    "    \"st\": \"street\", \"ave\": \"avenue\", \"rd\": \"road\", \"blvd\": \"boulevard\",\n",
    "    \"dr\": \"drive\", \"n\": \"north\", \"s\": \"south\", \"e\": \"east\", \"w\": \"west\"\n",
    "}\n",
    "\n",
    "def normalize_string(s: str) -> str:\n",
    "    \"\"\"Lowercase, strip punctuation, expand abbreviations, collapse whitespace.\"\"\"\n",
    "    s = s.lower()\n",
    "    s = re.sub(r\"[.,#]\", \"\", s)\n",
    "    tokens = s.split()\n",
    "    tokens = [ABBREVIATIONS.get(tok, tok) for tok in tokens]\n",
    "    return \" \".join(tokens).strip()\n",
    "\n",
    "def enhanced_parse(addr: str) -> dict:\n",
    "    \"\"\"Parse address with usaddress, logging failures and falling back to {}.\"\"\"\n",
    "    raw = addr\n",
    "    norm = normalize_string(addr)\n",
    "    try:\n",
    "        parsed, _ = usaddress.tag(norm)\n",
    "    except usaddress.RepeatedLabelError as e:\n",
    "        logger.info(f\"RepeatedLabelError for '{raw}': {e}\")\n",
    "        return {}\n",
    "    except Exception as e:\n",
    "        logger.info(f\"Parse failure for '{raw}': {e}\")\n",
    "        return {}\n",
    "    return parsed\n"
   ]
  },
  {
   "cell_type": "code",
   "execution_count": 38,
   "id": "aeb3769f-8989-4ecb-9900-0810454ae550",
   "metadata": {},
   "outputs": [],
   "source": [
    "# --- Property address processing ---\n",
    "# Apply enhanced parsing\n",
    "prop['parsed_addr'] = prop['street_address'].fillna('').apply(enhanced_parse)\n",
    "\n",
    "# Construct full_address with fallback to raw concatenation\n",
    "def build_prop_full(row):\n",
    "    if row['parsed_addr']:\n",
    "        return \" \".join([\n",
    "            row['parsed_addr'].get('AddressNumber',''),\n",
    "            row['parsed_addr'].get('StreetName',''),\n",
    "            row['parsed_addr'].get('StreetNamePostType',''),\n",
    "            row['city'], row['state'], str(row['zipcode'])\n",
    "        ]).strip()\n",
    "    else:\n",
    "        return f\"{row['street_address']} {row['city']} {row['state']} {row['zipcode']}\"\n",
    "\n",
    "prop['full_address'] = prop.apply(build_prop_full, axis=1)\n",
    "\n",
    "# Token set feature for fuzzy matching\n",
    "prop['token_set'] = prop['full_address'].str.split().apply(set)\n",
    "\n",
    "# Normalize property type\n",
    "type_map = {\n",
    "    'Apartment Building':'Apartment',\n",
    "    'Apartment Floor Plan':'Apartment'\n",
    "}\n",
    "prop['type_norm'] = prop['type'].map(type_map).fillna(prop['type'])\n",
    "\n",
    "# Cleaned property frame\n",
    "prop_clean = prop[['team_id','property_id','full_address','token_set','type_norm']]\n",
    "prop_clean.head()\n"
   ]
  },
  {
   "cell_type": "code",
   "execution_count": 40,
   "id": "de4a5124-b424-40ee-9995-1881144690b1",
   "metadata": {},
   "outputs": [],
   "source": [
    "# --- Listing address processing ---\n",
    "# Enhanced parsing on listing name\n",
    "listing['parsed_addr'] = listing['name'].fillna('').apply(enhanced_parse)\n",
    "\n",
    "def build_listing_full(row):\n",
    "    if row['parsed_addr']:\n",
    "        return \" \".join([\n",
    "            row['parsed_addr'].get('AddressNumber',''),\n",
    "            row['parsed_addr'].get('StreetName',''),\n",
    "            row['parsed_addr'].get('StreetNamePostType',''),\n",
    "            row['parsed_addr'].get('PlaceName',''),\n",
    "            row['parsed_addr'].get('StateName',''),\n",
    "            row['parsed_addr'].get('OccupancyIdentifier','')\n",
    "        ]).strip()\n",
    "    else:\n",
    "        return normalize_string(row['name'])\n",
    "\n",
    "listing['full_address'] = listing.apply(build_listing_full, axis=1)\n",
    "\n",
    "# Token set feature\n",
    "listing['token_set'] = listing['full_address'].str.split().apply(set)\n",
    "\n",
    "clean_listing = listing[['team_id','property_id','full_address','token_set']]\n",
    "clean_listing.head()\n"
   ]
  },
  {
   "cell_type": "code",
   "execution_count": 42,
   "id": "3af85129-e85b-4cb0-807b-2d83cc11dc6d",
   "metadata": {},
   "outputs": [
    {
     "data": {
      "text/html": [
       "<div>\n",
       "<style scoped>\n",
       "    .dataframe tbody tr th:only-of-type {\n",
       "        vertical-align: middle;\n",
       "    }\n",
       "\n",
       "    .dataframe tbody tr th {\n",
       "        vertical-align: top;\n",
       "    }\n",
       "\n",
       "    .dataframe thead th {\n",
       "        text-align: right;\n",
       "    }\n",
       "</style>\n",
       "<table border=\"1\" class=\"dataframe\">\n",
       "  <thead>\n",
       "    <tr style=\"text-align: right;\">\n",
       "      <th></th>\n",
       "      <th>count</th>\n",
       "      <th>unique</th>\n",
       "      <th>top</th>\n",
       "      <th>freq</th>\n",
       "    </tr>\n",
       "  </thead>\n",
       "  <tbody>\n",
       "    <tr>\n",
       "      <th>team_id</th>\n",
       "      <td>5000</td>\n",
       "      <td>47</td>\n",
       "      <td>5c7aff2f-1a49-4dd3-a1fa-a7622f260133</td>\n",
       "      <td>1267</td>\n",
       "    </tr>\n",
       "    <tr>\n",
       "      <th>property_id</th>\n",
       "      <td>5000</td>\n",
       "      <td>5000</td>\n",
       "      <td>3d283cd9-5436-40ee-b3c5-8d1983f65bac</td>\n",
       "      <td>1</td>\n",
       "    </tr>\n",
       "    <tr>\n",
       "      <th>full_address</th>\n",
       "      <td>5000</td>\n",
       "      <td>4942</td>\n",
       "      <td>3307 3307 Kansas City KS</td>\n",
       "      <td>7</td>\n",
       "    </tr>\n",
       "  </tbody>\n",
       "</table>\n",
       "</div>"
      ],
      "text/plain": [
       "             count unique                                   top  freq\n",
       "team_id       5000     47  5c7aff2f-1a49-4dd3-a1fa-a7622f260133  1267\n",
       "property_id   5000   5000  3d283cd9-5436-40ee-b3c5-8d1983f65bac     1\n",
       "full_address  5000   4942              3307 3307 Kansas City KS     7"
      ]
     },
     "metadata": {},
     "output_type": "display_data"
    }
   ],
   "source": [
    "display(prop_clean.describe(include=\"all\").T)"
   ]
  },
  {
   "cell_type": "markdown",
   "id": "cd02ec14-2bc6-4f60-b395-5712f029f5b7",
   "metadata": {},
   "source": []
  },
  {
   "cell_type": "code",
   "execution_count": 46,
   "id": "5922757b-f8a4-46fa-a80b-c0230a10fc37",
   "metadata": {},
   "outputs": [
    {
     "data": {
      "text/html": [
       "<div>\n",
       "<style scoped>\n",
       "    .dataframe tbody tr th:only-of-type {\n",
       "        vertical-align: middle;\n",
       "    }\n",
       "\n",
       "    .dataframe tbody tr th {\n",
       "        vertical-align: top;\n",
       "    }\n",
       "\n",
       "    .dataframe thead th {\n",
       "        text-align: right;\n",
       "    }\n",
       "</style>\n",
       "<table border=\"1\" class=\"dataframe\">\n",
       "  <thead>\n",
       "    <tr style=\"text-align: right;\">\n",
       "      <th></th>\n",
       "      <th>count</th>\n",
       "      <th>unique</th>\n",
       "      <th>top</th>\n",
       "      <th>freq</th>\n",
       "    </tr>\n",
       "  </thead>\n",
       "  <tbody>\n",
       "    <tr>\n",
       "      <th>team_id</th>\n",
       "      <td>7142</td>\n",
       "      <td>40</td>\n",
       "      <td>9d7b2296-f579-464b-a47d-d62b7532a9e5</td>\n",
       "      <td>2056</td>\n",
       "    </tr>\n",
       "    <tr>\n",
       "      <th>property_id</th>\n",
       "      <td>4911</td>\n",
       "      <td>1376</td>\n",
       "      <td>83c06a45-751c-4459-ad6c-dece5b0ffdec</td>\n",
       "      <td>160</td>\n",
       "    </tr>\n",
       "    <tr>\n",
       "      <th>full_address</th>\n",
       "      <td>7142</td>\n",
       "      <td>3221</td>\n",
       "      <td></td>\n",
       "      <td>190</td>\n",
       "    </tr>\n",
       "  </tbody>\n",
       "</table>\n",
       "</div>"
      ],
      "text/plain": [
       "             count unique                                   top  freq\n",
       "team_id       7142     40  9d7b2296-f579-464b-a47d-d62b7532a9e5  2056\n",
       "property_id   4911   1376  83c06a45-751c-4459-ad6c-dece5b0ffdec   160\n",
       "full_address  7142   3221                                         190"
      ]
     },
     "metadata": {},
     "output_type": "display_data"
    }
   ],
   "source": [
    "display(clean_listing.describe(include=\"all\").T)"
   ]
  },
  {
   "cell_type": "code",
   "execution_count": 48,
   "id": "d0ac6606-7bde-4abe-97f4-fcb08b547afe",
   "metadata": {},
   "outputs": [],
   "source": [
    "prop_clean.to_csv(\"properties_cleaned.csv\")"
   ]
  },
  {
   "cell_type": "code",
   "execution_count": 50,
   "id": "15166070-564a-4cbe-9e0e-751cd5154461",
   "metadata": {},
   "outputs": [],
   "source": [
    "clean_listing.to_csv(\"listings_clean.csv\")"
   ]
  },
  {
   "cell_type": "markdown",
   "id": "f7ea2261-55db-49db-8105-4b0044cae770",
   "metadata": {},
   "source": []
  },
  {
   "cell_type": "code",
   "execution_count": null,
   "id": "3625e27c-b493-4446-a8ba-908db10dae66",
   "metadata": {},
   "outputs": [],
   "source": []
  }
 ],
 "metadata": {
  "kernelspec": {
   "display_name": "Python [conda env:base] *",
   "language": "python",
   "name": "conda-base-py"
  },
  "language_info": {
   "codemirror_mode": {
    "name": "ipython",
    "version": 3
   },
   "file_extension": ".py",
   "mimetype": "text/x-python",
   "name": "python",
   "nbconvert_exporter": "python",
   "pygments_lexer": "ipython3",
   "version": "3.11.11"
  }
 },
 "nbformat": 4,
 "nbformat_minor": 5
}
